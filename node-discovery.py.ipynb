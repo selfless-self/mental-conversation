{
 "cells": [
  {
   "cell_type": "markdown",
   "id": "4b36e1f2-08ab-4720-a001-305663aed6e0",
   "metadata": {},
   "source": [
    "#### situation\n",
    "there are nodes which can connect together as neighbors. each node has a subset of keys (identifiers of it's direct neighbors) & values (information like communication channel & method); the big picture is: there is an unevenly distributed associative array containing all the information about the whole network that our nodes have created together.\n",
    "\n",
    "#### problem\n",
    "this distributed associative array (or dictionary or hashmap or whatever you want to call it) is going to be used by all the nodes to discover eachother. and we need some kind of basic implementation of it."
   ]
  },
  {
   "cell_type": "code",
   "execution_count": 18,
   "id": "980c26d6-f213-47aa-a0ee-0bddc06ab6d7",
   "metadata": {},
   "outputs": [],
   "source": [
    "# interface\n",
    "from __future__ import annotations\n",
    "from abc import ABC, abstractmethod\n",
    "from enum import Enum\n",
    "\n",
    "\n",
    "class ChannelType(Enum):\n",
    "    HTTP = 1\n",
    "    GRPC = 2\n",
    "\n",
    "\n",
    "class INode(ABC):\n",
    "    @property\n",
    "    @abstractmethod\n",
    "    def identifier(self) -> str: ...\n",
    "\n",
    "    @property\n",
    "    @abstractmethod\n",
    "    def public_key(self) -> str: ...\n",
    "\n",
    "    @property\n",
    "    @abstractmethod\n",
    "    def channel(self) -> tuple[ChannelType, str, str]: ...\n",
    "\n",
    "    @abstractmethod\n",
    "    def connect(self, neighbor: INode) -> None: ...\n",
    "\n",
    "    @abstractmethod\n",
    "    def find(self, questioners: set[str], subject: str) -> INode: ..."
   ]
  },
  {
   "cell_type": "code",
   "execution_count": 19,
   "id": "5d9a0281-7ba5-4396-a772-05ca7b3b0449",
   "metadata": {},
   "outputs": [],
   "source": [
    "# implemnetation\n",
    "class Node(INode):\n",
    "    def __init__(self, identifier: str, public_key: str, channel: tuple[ChannelType, str, str]) -> None:\n",
    "        self._identifier: str = identifier\n",
    "        self._public_key: str = public_key\n",
    "        self._channel: tuple[ChannelType, str, str] = channel\n",
    "        self._neighbors: dict[str, INode] = dict()\n",
    "\n",
    "    @property\n",
    "    def identifier(self) -> str:\n",
    "        return self._identifier\n",
    "\n",
    "    @property\n",
    "    def public_key(self) -> str:\n",
    "        return self._public_key\n",
    "\n",
    "    @property\n",
    "    def channel(self) -> tuple[ChannelType, str, str]:\n",
    "        return self._channel\n",
    "\n",
    "    def connect(self, neighbor: INode) -> None:\n",
    "        if neighbor.identifier in self._neighbors.keys():\n",
    "            raise KeyError\n",
    "\n",
    "        self._neighbors[neighbor.identifier] = neighbor\n",
    "\n",
    "        try:\n",
    "            neighbor.connect(self)\n",
    "        except KeyError:\n",
    "            pass\n",
    "\n",
    "    def find(self, questioners: set[str], subject: str) -> INode:\n",
    "        if (immediate_node := self._neighbors.get(subject)) is not None:\n",
    "            return immediate_node\n",
    "\n",
    "        new_questioners = questioners | {self.identifier}\n",
    "        for immediate in [v for k, v in self._neighbors.items() if k not in questioners]:\n",
    "            if (node := immediate.find(new_questioners, subject)) is not None:\n",
    "                return node\n",
    "\n",
    "        raise KeyError\n",
    "\n",
    "    def __str__(self) -> str:\n",
    "        return f'{self.identifier} ({self.public_key}) - {self.channel[1]}:{self.channel[2]} ({self.channel[0]})'"
   ]
  },
  {
   "cell_type": "code",
   "execution_count": 21,
   "id": "b4b92137-ba0b-4b53-b6c0-551700e918c3",
   "metadata": {
    "scrolled": true
   },
   "outputs": [
    {
     "name": "stdout",
     "output_type": "stream",
     "text": [
      "first:  secnd_node, third_node, fifth_node\n",
      "secnd:  first_node, sixth_node\n",
      "third:  first_node, furth_node\n",
      "furth:  third_node\n",
      "fifth:  first_node\n",
      "sixth:  secnd_node\n",
      "svnth:  \n",
      "query first on sixth:  first_node (ex-pub-key-1) - IP1:PORT1 (ChannelType.HTTP)\n",
      "query sixth on furth:  sixth_node (ex-pub-key-6) - IP1:PORT4 (ChannelType.GRPC)\n"
     ]
    },
    {
     "ename": "KeyError",
     "evalue": "",
     "output_type": "error",
     "traceback": [
      "\u001b[0;31m---------------------------------------------------------------------------\u001b[0m",
      "\u001b[0;31mKeyError\u001b[0m                                  Traceback (most recent call last)",
      "Cell \u001b[0;32mIn[21], line 26\u001b[0m\n\u001b[1;32m     24\u001b[0m \u001b[38;5;28mprint\u001b[39m(\u001b[38;5;124m'\u001b[39m\u001b[38;5;124mquery first on sixth: \u001b[39m\u001b[38;5;124m'\u001b[39m, sixth_node\u001b[38;5;241m.\u001b[39mfind({\u001b[38;5;124m'\u001b[39m\u001b[38;5;124msvnth_node\u001b[39m\u001b[38;5;124m'\u001b[39m}, \u001b[38;5;124m'\u001b[39m\u001b[38;5;124mfirst_node\u001b[39m\u001b[38;5;124m'\u001b[39m))\n\u001b[1;32m     25\u001b[0m \u001b[38;5;28mprint\u001b[39m(\u001b[38;5;124m'\u001b[39m\u001b[38;5;124mquery sixth on furth: \u001b[39m\u001b[38;5;124m'\u001b[39m, furth_node\u001b[38;5;241m.\u001b[39mfind({\u001b[38;5;124m'\u001b[39m\u001b[38;5;124msvnth_node\u001b[39m\u001b[38;5;124m'\u001b[39m}, \u001b[38;5;124m'\u001b[39m\u001b[38;5;124msixth_node\u001b[39m\u001b[38;5;124m'\u001b[39m))\n\u001b[0;32m---> 26\u001b[0m \u001b[38;5;28mprint\u001b[39m(\u001b[38;5;124m'\u001b[39m\u001b[38;5;124mquery svnth on first: \u001b[39m\u001b[38;5;124m'\u001b[39m, \u001b[43mfirst_node\u001b[49m\u001b[38;5;241;43m.\u001b[39;49m\u001b[43mfind\u001b[49m\u001b[43m(\u001b[49m\u001b[43m{\u001b[49m\u001b[38;5;124;43m'\u001b[39;49m\u001b[38;5;124;43msecnd_node\u001b[39;49m\u001b[38;5;124;43m'\u001b[39;49m\u001b[43m}\u001b[49m\u001b[43m,\u001b[49m\u001b[43m \u001b[49m\u001b[38;5;124;43m'\u001b[39;49m\u001b[38;5;124;43msvnth_node\u001b[39;49m\u001b[38;5;124;43m'\u001b[39;49m\u001b[43m)\u001b[49m)\n",
      "Cell \u001b[0;32mIn[19], line 38\u001b[0m, in \u001b[0;36mNode.find\u001b[0;34m(self, questioners, subject)\u001b[0m\n\u001b[1;32m     36\u001b[0m new_questioners \u001b[38;5;241m=\u001b[39m questioners \u001b[38;5;241m|\u001b[39m {\u001b[38;5;28mself\u001b[39m\u001b[38;5;241m.\u001b[39midentifier}\n\u001b[1;32m     37\u001b[0m \u001b[38;5;28;01mfor\u001b[39;00m immediate \u001b[38;5;129;01min\u001b[39;00m [v \u001b[38;5;28;01mfor\u001b[39;00m k, v \u001b[38;5;129;01min\u001b[39;00m \u001b[38;5;28mself\u001b[39m\u001b[38;5;241m.\u001b[39m_neighbors\u001b[38;5;241m.\u001b[39mitems() \u001b[38;5;28;01mif\u001b[39;00m k \u001b[38;5;129;01mnot\u001b[39;00m \u001b[38;5;129;01min\u001b[39;00m questioners]:\n\u001b[0;32m---> 38\u001b[0m     \u001b[38;5;28;01mif\u001b[39;00m (node \u001b[38;5;241m:=\u001b[39m \u001b[43mimmediate\u001b[49m\u001b[38;5;241;43m.\u001b[39;49m\u001b[43mfind\u001b[49m\u001b[43m(\u001b[49m\u001b[43mnew_questioners\u001b[49m\u001b[43m,\u001b[49m\u001b[43m \u001b[49m\u001b[43msubject\u001b[49m\u001b[43m)\u001b[49m) \u001b[38;5;129;01mis\u001b[39;00m \u001b[38;5;129;01mnot\u001b[39;00m \u001b[38;5;28;01mNone\u001b[39;00m:\n\u001b[1;32m     39\u001b[0m         \u001b[38;5;28;01mreturn\u001b[39;00m node\n\u001b[1;32m     41\u001b[0m \u001b[38;5;28;01mraise\u001b[39;00m \u001b[38;5;167;01mKeyError\u001b[39;00m\n",
      "Cell \u001b[0;32mIn[19], line 38\u001b[0m, in \u001b[0;36mNode.find\u001b[0;34m(self, questioners, subject)\u001b[0m\n\u001b[1;32m     36\u001b[0m new_questioners \u001b[38;5;241m=\u001b[39m questioners \u001b[38;5;241m|\u001b[39m {\u001b[38;5;28mself\u001b[39m\u001b[38;5;241m.\u001b[39midentifier}\n\u001b[1;32m     37\u001b[0m \u001b[38;5;28;01mfor\u001b[39;00m immediate \u001b[38;5;129;01min\u001b[39;00m [v \u001b[38;5;28;01mfor\u001b[39;00m k, v \u001b[38;5;129;01min\u001b[39;00m \u001b[38;5;28mself\u001b[39m\u001b[38;5;241m.\u001b[39m_neighbors\u001b[38;5;241m.\u001b[39mitems() \u001b[38;5;28;01mif\u001b[39;00m k \u001b[38;5;129;01mnot\u001b[39;00m \u001b[38;5;129;01min\u001b[39;00m questioners]:\n\u001b[0;32m---> 38\u001b[0m     \u001b[38;5;28;01mif\u001b[39;00m (node \u001b[38;5;241m:=\u001b[39m \u001b[43mimmediate\u001b[49m\u001b[38;5;241;43m.\u001b[39;49m\u001b[43mfind\u001b[49m\u001b[43m(\u001b[49m\u001b[43mnew_questioners\u001b[49m\u001b[43m,\u001b[49m\u001b[43m \u001b[49m\u001b[43msubject\u001b[49m\u001b[43m)\u001b[49m) \u001b[38;5;129;01mis\u001b[39;00m \u001b[38;5;129;01mnot\u001b[39;00m \u001b[38;5;28;01mNone\u001b[39;00m:\n\u001b[1;32m     39\u001b[0m         \u001b[38;5;28;01mreturn\u001b[39;00m node\n\u001b[1;32m     41\u001b[0m \u001b[38;5;28;01mraise\u001b[39;00m \u001b[38;5;167;01mKeyError\u001b[39;00m\n",
      "Cell \u001b[0;32mIn[19], line 41\u001b[0m, in \u001b[0;36mNode.find\u001b[0;34m(self, questioners, subject)\u001b[0m\n\u001b[1;32m     38\u001b[0m     \u001b[38;5;28;01mif\u001b[39;00m (node \u001b[38;5;241m:=\u001b[39m immediate\u001b[38;5;241m.\u001b[39mfind(new_questioners, subject)) \u001b[38;5;129;01mis\u001b[39;00m \u001b[38;5;129;01mnot\u001b[39;00m \u001b[38;5;28;01mNone\u001b[39;00m:\n\u001b[1;32m     39\u001b[0m         \u001b[38;5;28;01mreturn\u001b[39;00m node\n\u001b[0;32m---> 41\u001b[0m \u001b[38;5;28;01mraise\u001b[39;00m \u001b[38;5;167;01mKeyError\u001b[39;00m\n",
      "\u001b[0;31mKeyError\u001b[0m: "
     ]
    }
   ],
   "source": [
    "# test\n",
    "first_node = Node('first_node', 'ex-pub-key-1', (ChannelType.HTTP, 'IP1', 'PORT1'))\n",
    "secnd_node = Node('secnd_node', 'ex-pub-key-2', (ChannelType.GRPC, 'IP2', 'PORT1'))\n",
    "third_node = Node('third_node', 'ex-pub-key-3', (ChannelType.GRPC, 'IP2', 'PORT2'))\n",
    "furth_node = Node('furth_node', 'ex-pub-key-4', (ChannelType.HTTP, 'IP1', 'PORT2'))\n",
    "fifth_node = Node('fifth_node', 'ex-pub-key-5', (ChannelType.HTTP, 'IP1', 'PORT3'))\n",
    "sixth_node = Node('sixth_node', 'ex-pub-key-6', (ChannelType.GRPC, 'IP1', 'PORT4'))\n",
    "svnth_node = Node('svnth_node', 'ex-pub-key-6', (ChannelType.HTTP, 'IP2', 'PORT3'))\n",
    "\n",
    "first_node.connect(secnd_node)\n",
    "first_node.connect(third_node)\n",
    "first_node.connect(fifth_node)\n",
    "third_node.connect(furth_node)\n",
    "secnd_node.connect(sixth_node)\n",
    "\n",
    "print('first: ', ', '.join(first_node._neighbors.keys()))\n",
    "print('secnd: ', ', '.join(secnd_node._neighbors.keys()))\n",
    "print('third: ', ', '.join(third_node._neighbors.keys()))\n",
    "print('furth: ', ', '.join(furth_node._neighbors.keys()))\n",
    "print('fifth: ', ', '.join(fifth_node._neighbors.keys()))\n",
    "print('sixth: ', ', '.join(sixth_node._neighbors.keys()))\n",
    "print('svnth: ', ', '.join(svnth_node._neighbors.keys()))\n",
    "\n",
    "print('query first on sixth: ', sixth_node.find({'svnth_node'}, 'first_node'))\n",
    "print('query sixth on furth: ', furth_node.find({'svnth_node'}, 'sixth_node'))\n",
    "print('query svnth on first: ', first_node.find({'secnd_node'}, 'svnth_node'))"
   ]
  }
 ],
 "metadata": {
  "kernelspec": {
   "display_name": "Python 3 (ipykernel)",
   "language": "python",
   "name": "python3"
  },
  "language_info": {
   "codemirror_mode": {
    "name": "ipython",
    "version": 3
   },
   "file_extension": ".py",
   "mimetype": "text/x-python",
   "name": "python",
   "nbconvert_exporter": "python",
   "pygments_lexer": "ipython3",
   "version": "3.12.3"
  }
 },
 "nbformat": 4,
 "nbformat_minor": 5
}
